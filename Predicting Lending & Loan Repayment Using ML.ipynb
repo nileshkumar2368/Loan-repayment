{
 "cells": [
  {
   "cell_type": "code",
   "execution_count": 1,
   "metadata": {},
   "outputs": [],
   "source": [
    "import matplotlib.pyplot as plt\n",
    "import numpy as np\n",
    "import pickle\n",
    "from sklearn.model_selection import train_test_split\n",
    "from sklearn.model_selection import KFold\n",
    "from sklearn.model_selection import GridSearchCV\n",
    "from sklearn.preprocessing import StandardScaler\n",
    "from sklearn import neighbors\n",
    "from sklearn import datasets\n",
    "from sklearn import metrics\n",
    "from sklearn import tree\n",
    "from sklearn import svm"
   ]
  },
  {
   "cell_type": "code",
   "execution_count": 2,
   "metadata": {},
   "outputs": [],
   "source": [
    "ofname=open('IDSgithub/files/ch05/dataset_small.pkl','rb')\n",
    "(x,y)=pickle.load(ofname,encoding='latin1')"
   ]
  },
  {
   "cell_type": "code",
   "execution_count": 3,
   "metadata": {},
   "outputs": [
    {
     "name": "stdout",
     "output_type": "stream",
     "text": [
      "Dims: 15, Samples:  4140\n"
     ]
    }
   ],
   "source": [
    "dims=x.shape[1]\n",
    "N=x.shape[0]\n",
    "print('Dims: '+str(dims)+', Samples: ',str(N))"
   ]
  },
  {
   "cell_type": "code",
   "execution_count": 4,
   "metadata": {},
   "outputs": [
    {
     "name": "stdout",
     "output_type": "stream",
     "text": [
      "Predicted Value: -1.0 , Real Target: -1.0\n"
     ]
    }
   ],
   "source": [
    "knn=neighbors.KNeighborsClassifier(n_neighbors=11)\n",
    "knn.fit(x,y)\n",
    "yhat=knn.predict(x)\n",
    "print('Predicted Value: '+str(yhat[-1]),', Real Target: '+str(y[-1]))"
   ]
  },
  {
   "cell_type": "code",
   "execution_count": 5,
   "metadata": {},
   "outputs": [
    {
     "data": {
      "text/plain": [
       "0.8316425120772947"
      ]
     },
     "execution_count": 5,
     "metadata": {},
     "output_type": "execute_result"
    }
   ],
   "source": [
    "knn.score(x,y)"
   ]
  },
  {
   "cell_type": "code",
   "execution_count": 6,
   "metadata": {},
   "outputs": [
    {
     "data": {
      "image/png": "[encoded data removed]",
      "text/plain": [
       "<Figure size 504x504 with 1 Axes>"
      ]
     },
     "metadata": {},
     "output_type": "display_data"
    }
   ],
   "source": [
    "plt.pie(np.c_[np.sum(np.where(y==1,1,0)),np.sum(np.where(y==-1,1,0))][0],labels=['Not fully funded','Full amount'],colors=['r','g'],shadow=False,autopct='%.2f')\n",
    "plt.gcf().set_size_inches((7,7))"
   ]
  },
  {
   "cell_type": "code",
   "execution_count": 7,
   "metadata": {},
   "outputs": [
    {
     "name": "stdout",
     "output_type": "stream",
     "text": [
      "TP:  3370\n",
      "FP:  690\n",
      "TN:  73\n",
      "FN:  7\n"
     ]
    }
   ],
   "source": [
    "yhat=knn.predict(x)\n",
    "TP=np.sum(np.logical_and(yhat==-1,y==-1))\n",
    "TN=np.sum(np.logical_and(yhat==1,y==1))\n",
    "FP=np.sum(np.logical_and(yhat==-1,y==1))\n",
    "FN=np.sum(np.logical_and(yhat==1,y==-1))\n",
    "print('TP: ',str(TP))\n",
    "print('FP: ',str(FP))\n",
    "print('TN: ',str(TN))\n",
    "print('FN: ',str(FN))"
   ]
  },
  {
   "cell_type": "code",
   "execution_count": 8,
   "metadata": {},
   "outputs": [
    {
     "data": {
      "text/plain": [
       "array([[3370,  690],\n",
       "       [   7,   73]])"
      ]
     },
     "execution_count": 8,
     "metadata": {},
     "output_type": "execute_result"
    }
   ],
   "source": [
    "metrics.confusion_matrix(yhat,y)"
   ]
  },
  {
   "cell_type": "code",
   "execution_count": 9,
   "metadata": {},
   "outputs": [
    {
     "name": "stdout",
     "output_type": "stream",
     "text": [
      "Score:  1.0\n",
      "Classification Accuracy (Accuracy Score):  1.0\n",
      "Confusion Matrix: \n",
      " [[3377    0]\n",
      " [   0  763]]\n"
     ]
    }
   ],
   "source": [
    "knn=neighbors.KNeighborsClassifier(n_neighbors=1)\n",
    "knn.fit(x,y)\n",
    "yhat=knn.predict(x)\n",
    "print('Score: ',knn.score(x,y))\n",
    "print('Classification Accuracy (Accuracy Score): ',str(metrics.accuracy_score(yhat,y)))\n",
    "print('Confusion Matrix: \\n',str(metrics.confusion_matrix(yhat,y)))"
   ]
  },
  {
   "cell_type": "code",
   "execution_count": 10,
   "metadata": {},
   "outputs": [
    {
     "name": "stdout",
     "output_type": "stream",
     "text": [
      "Training Shape:  (2898, 15) , Training Targets Shape:  (2898,)\n",
      "Testing Shape:  (1242, 15) , Testing Targets Shape (1242,)\n"
     ]
    }
   ],
   "source": [
    "perm=np.random.permutation(y.size)\n",
    "PRC=0.7\n",
    "split_point=int(np.ceil(y.shape[0]*PRC))\n",
    "X_train=x[perm[:split_point].ravel(),:]\n",
    "y_train=y[perm[:split_point].ravel()]\n",
    "X_test=x[perm[split_point:].ravel(),:]\n",
    "y_test=y[perm[split_point:].ravel()]\n",
    "print('Training Shape: ',X_train.shape,', Training Targets Shape: ',y_train.shape)\n",
    "print('Testing Shape: ',X_test.shape,', Testing Targets Shape',y_test.shape)"
   ]
  },
  {
   "cell_type": "code",
   "execution_count": 11,
   "metadata": {},
   "outputs": [
    {
     "name": "stdout",
     "output_type": "stream",
     "text": [
      "TRAINING STATS: \n",
      "\n",
      "Score:  1.0\n",
      "Classification Accuracy:  1.0\n",
      "Confusion Matrix: \n",
      " [[2349    0]\n",
      " [   0  549]]\n"
     ]
    }
   ],
   "source": [
    "knn=neighbors.KNeighborsClassifier(n_neighbors=1)\n",
    "knn.fit(X_train,y_train)\n",
    "yhat=knn.predict(X_train)\n",
    "print('TRAINING STATS: \\n')\n",
    "print('Score: ',knn.score(X_train,y_train))\n",
    "print('Classification Accuracy: ',str(metrics.accuracy_score(yhat,y_train)))\n",
    "print('Confusion Matrix: \\n',metrics.confusion_matrix(yhat,y_train))"
   ]
  },
  {
   "cell_type": "code",
   "execution_count": 12,
   "metadata": {},
   "outputs": [
    {
     "name": "stdout",
     "output_type": "stream",
     "text": [
      "TRAINING STATS: \n",
      "\n",
      "Score:  0.9272946859903382\n",
      "Classification Accuracy (Accuracy Score):  0.7576489533011272\n",
      "Confusion Matrix: \n",
      " [[863 136]\n",
      " [165  78]]\n"
     ]
    }
   ],
   "source": [
    "yhat=knn.predict(X_test)\n",
    "print('TRAINING STATS: \\n')\n",
    "print('Score: ',knn.score(x,y))\n",
    "print('Classification Accuracy (Accuracy Score): ',str(metrics.accuracy_score(yhat,y_test)))\n",
    "print('Confusion Matrix: \\n',metrics.confusion_matrix(yhat,y_test))"
   ]
  },
  {
   "cell_type": "code",
   "execution_count": 13,
   "metadata": {},
   "outputs": [
    {
     "name": "stdout",
     "output_type": "stream",
     "text": [
      "Mean Expected Error:  0.75829307568438\n"
     ]
    }
   ],
   "source": [
    "PRC=0.3\n",
    "acc=np.zeros((10,))\n",
    "for i in range(10):\n",
    "    X_train,X_test,y_train,y_test=train_test_split(x,y,test_size=PRC)\n",
    "    knn=neighbors.KNeighborsClassifier(n_neighbors=1)\n",
    "    knn.fit(X_train,y_train)\n",
    "    yhat=knn.predict(X_test)\n",
    "    acc[i]=metrics.accuracy_score(yhat,y_test)\n",
    "acc.shape=(1,10)\n",
    "print('Mean Expected Error: ',str(np.mean(acc[0])))"
   ]
  },
  {
   "cell_type": "code",
   "execution_count": 14,
   "metadata": {},
   "outputs": [
    {
     "name": "stdout",
     "output_type": "stream",
     "text": [
      "[[0.77536232 0.77777778 0.81884058 0.76570048]\n",
      " [0.73188406 0.78743961 0.81884058 0.79951691]\n",
      " [0.78502415 0.78985507 0.83816425 0.7705314 ]\n",
      " [0.78502415 0.81400966 0.81642512 0.77536232]\n",
      " [0.75845411 0.7705314  0.8115942  0.76811594]\n",
      " [0.76570048 0.81400966 0.83333333 0.75362319]\n",
      " [0.7826087  0.79468599 0.81884058 0.7826087 ]\n",
      " [0.74396135 0.76086957 0.82125604 0.76570048]\n",
      " [0.7294686  0.77777778 0.8115942  0.79468599]\n",
      " [0.73913043 0.77294686 0.81400966 0.77777778]]\n"
     ]
    }
   ],
   "source": [
    "PRC=0.1\n",
    "acc_r=np.zeros((10,4))\n",
    "for i in range(10):\n",
    "    X_train,X_test,y_train,y_test=train_test_split(x,y,test_size=PRC)\n",
    "    nn1=neighbors.KNeighborsClassifier(n_neighbors=1)\n",
    "    nn3=neighbors.KNeighborsClassifier(n_neighbors=3)\n",
    "    svc=svm.SVC()\n",
    "    dt=tree.DecisionTreeClassifier()\n",
    "    nn1.fit(X_train,y_train)\n",
    "    nn3.fit(X_train,y_train)\n",
    "    svc.fit(X_train,y_train)\n",
    "    dt.fit(X_train,y_train)\n",
    "    yhat_nn1=nn1.predict(X_test)\n",
    "    yhat_nn3=nn3.predict(X_test)\n",
    "    yhat_svc=svc.predict(X_test)\n",
    "    yhat_dt=dt.predict(X_test)\n",
    "    acc_r[i][0]=metrics.accuracy_score(yhat_nn1,y_test)\n",
    "    acc_r[i][1]=metrics.accuracy_score(yhat_nn3,y_test)\n",
    "    acc_r[i][2]=metrics.accuracy_score(yhat_svc,y_test)\n",
    "    acc_r[i][3]=metrics.accuracy_score(yhat_dt,y_test)\n",
    "print(acc_r)"
   ]
  },
  {
   "cell_type": "code",
   "execution_count": 15,
   "metadata": {},
   "outputs": [
    {
     "name": "stdout",
     "output_type": "stream",
     "text": [
      "[[0.81884058 0.8236715  0.83091787 0.83333333 0.83091787 0.82850242\n",
      "  0.81884058 0.8236715  0.81400966 0.82608696 0.8236715  0.82125604\n",
      "  0.8115942  0.80193237 0.80676329 0.79951691 0.79710145 0.80676329]\n",
      " [0.77777778 0.77777778 0.77777778 0.79710145 0.80193237 0.79227053\n",
      "  0.79951691 0.79710145 0.79227053 0.78743961 0.78019324 0.77536232\n",
      "  0.76811594 0.76811594 0.76570048 0.78502415 0.77294686 0.77536232]\n",
      " [0.84057971 0.84299517 0.86231884 0.85024155 0.852657   0.84782609\n",
      "  0.84299517 0.83816425 0.84057971 0.84782609 0.83574879 0.83333333\n",
      "  0.83333333 0.82608696 0.82850242 0.8236715  0.81642512 0.79951691]\n",
      " [0.81884058 0.82125604 0.82125604 0.82608696 0.81884058 0.82125604\n",
      "  0.81884058 0.80917874 0.81642512 0.8115942  0.81642512 0.81884058\n",
      "  0.80193237 0.77777778 0.79227053 0.79710145 0.77294686 0.77294686]\n",
      " [0.81400966 0.81400966 0.82608696 0.82850242 0.83333333 0.83333333\n",
      "  0.82125604 0.82125604 0.81884058 0.8115942  0.82125604 0.79951691\n",
      "  0.80917874 0.7826087  0.79227053 0.78985507 0.78019324 0.76328502]\n",
      " [0.85990338 0.85990338 0.8647343  0.86714976 0.86231884 0.85990338\n",
      "  0.852657   0.85024155 0.83091787 0.81400966 0.81642512 0.80917874\n",
      "  0.80917874 0.8115942  0.78019324 0.78985507 0.75362319 0.77777778]\n",
      " [0.81884058 0.81884058 0.81884058 0.83333333 0.83091787 0.8236715\n",
      "  0.82125604 0.81400966 0.80434783 0.80193237 0.80676329 0.80193237\n",
      "  0.79951691 0.77777778 0.78743961 0.76811594 0.76811594 0.76328502]\n",
      " [0.83333333 0.83333333 0.84057971 0.83091787 0.83333333 0.83816425\n",
      "  0.83816425 0.84057971 0.83574879 0.83091787 0.81642512 0.81400966\n",
      "  0.8236715  0.81884058 0.79951691 0.78502415 0.79227053 0.78743961]\n",
      " [0.81884058 0.81884058 0.8236715  0.82850242 0.83333333 0.83091787\n",
      "  0.82850242 0.8236715  0.82125604 0.81642512 0.80676329 0.81400966\n",
      "  0.80917874 0.79468599 0.81400966 0.79951691 0.79710145 0.79227053]\n",
      " [0.852657   0.852657   0.852657   0.84541063 0.85748792 0.85507246\n",
      "  0.84541063 0.84057971 0.852657   0.84057971 0.82125604 0.81642512\n",
      "  0.80676329 0.79227053 0.80193237 0.77294686 0.76086957 0.76086957]]\n"
     ]
    }
   ],
   "source": [
    "kf=KFold(n_splits=10,shuffle=True,random_state=0)\n",
    "C=np.arange(2,20,)\n",
    "acc=np.zeros((10,18))\n",
    "i=0\n",
    "for train_index,val_index in kf.split(x):\n",
    "    X_train,X_val=x[train_index],x[val_index]\n",
    "    y_train,y_val=y[train_index],y[val_index]\n",
    "    j=0\n",
    "    for c in C:\n",
    "        dt=tree.DecisionTreeClassifier(min_samples_leaf=1,max_depth=c)\n",
    "        dt.fit(X_train,y_train)\n",
    "        yhat=dt.predict(X_val)\n",
    "        acc[i][j]=metrics.accuracy_score(yhat,y_val)\n",
    "        j=j+1\n",
    "    i=i+1\n",
    "print(acc)"
   ]
  },
  {
   "cell_type": "code",
   "execution_count": 16,
   "metadata": {},
   "outputs": [
    {
     "name": "stdout",
     "output_type": "stream",
     "text": [
      "Mean Accuracy:  [0.82577349 0.82607469 0.82728133 0.82365595 0.830004   0.82245022\n",
      " 0.82667892 0.82003422 0.81852637 0.8182279  0.81158501 0.80765843\n",
      " 0.80675117 0.79829924 0.79135151 0.78712736 0.78561952 0.77807029]\n",
      "Selected Model Index:  4\n"
     ]
    }
   ],
   "source": [
    "X_train,X_test,y_train,y_test=train_test_split(x,y,test_size=0.20)\n",
    "kf=KFold(n_splits=10,shuffle=True,random_state=0)\n",
    "C=np.arange(2,20,)\n",
    "acc=np.zeros((10,18))\n",
    "i=0\n",
    "for train_index,val_index in kf.split(X_train):\n",
    "    X_t,X_val=X_train[train_index],X_train[val_index]\n",
    "    y_t,y_val=y_train[train_index],y_train[val_index]\n",
    "    j=0\n",
    "    for c in C:\n",
    "        dt=tree.DecisionTreeClassifier(min_samples_leaf=1,max_depth=c)\n",
    "        dt.fit(X_t,y_t)\n",
    "        yhat=dt.predict(X_val)\n",
    "        acc[i][j]=metrics.accuracy_score(yhat,y_val)\n",
    "        j=j+1\n",
    "    i=i+1\n",
    "print('Mean Accuracy: ',str(np.mean(acc,axis=0)))\n",
    "print('Selected Model Index: ',np.argmax(np.mean(acc,axis=0)))"
   ]
  },
  {
   "cell_type": "code",
   "execution_count": 17,
   "metadata": {},
   "outputs": [
    {
     "name": "stdout",
     "output_type": "stream",
     "text": [
      "Test accuracy:  0.8055555555555556\n"
     ]
    }
   ],
   "source": [
    "dt=tree.DecisionTreeClassifier(min_samples_leaf=1,max_depth=C[np.argmax(np.mean(acc,axis=0))])\n",
    "dt.fit(X_train,y_train)\n",
    "yhat=dt.predict(X_test)\n",
    "print('Test accuracy: ',metrics.accuracy_score(yhat,y_test))"
   ]
  },
  {
   "cell_type": "code",
   "execution_count": 18,
   "metadata": {},
   "outputs": [
    {
     "data": {
      "text/plain": [
       "DecisionTreeClassifier(class_weight=None, criterion='gini', max_depth=6,\n",
       "            max_features=None, max_leaf_nodes=None,\n",
       "            min_impurity_decrease=0.0, min_impurity_split=None,\n",
       "            min_samples_leaf=1, min_samples_split=2,\n",
       "            min_weight_fraction_leaf=0.0, presort=False, random_state=None,\n",
       "            splitter='best')"
      ]
     },
     "execution_count": 18,
     "metadata": {},
     "output_type": "execute_result"
    }
   ],
   "source": [
    "dt=tree.DecisionTreeClassifier(min_samples_leaf=1,max_depth=C[np.argmax(np.mean(acc,axis=0))])\n",
    "dt.fit(x,y)"
   ]
  },
  {
   "cell_type": "code",
   "execution_count": null,
   "metadata": {},
   "outputs": [],
   "source": [
    "parameters={'C':[1e4,1e5,1e6],'gamma':[1e-5,1e-4,1e-3]}\n",
    "N_splits=5\n",
    "kf=KFold(n_splits=N_splits,shuffle=True,random_state=0)\n",
    "acc=np.zeros((N_splits,))\n",
    "i=0\n",
    "yhat=y.copy()\n",
    "for train_index,test_index in kf.split(x):\n",
    "    X_train,X_test=x[train_index,:],x[test_index,:]\n",
    "    y_train,y_test=y[train_index],y[test_index]\n",
    "    scaler=StandardScaler()\n",
    "    X_train=scaler.fit_transform(X_train)\n",
    "    clf=svm.SVC(kernel='rbf')\n",
    "    clf=GridSearchCV(clf,parameters,cv=3)\n",
    "    clf.fit(X_train,y_train.ravel())\n",
    "    X_test=scaler.transform(X_test)\n",
    "    yhat[test_index]=clf.predict(X_test)\n",
    "    i=i+1\n",
    "print(metrics.confusion_matrix(yhat,y))\n",
    "print(metrics.confusion_matrix(yhat,y))"
   ]
  }
 ],
 "metadata": {
  "kernelspec": {
   "display_name": "Python 3",
   "language": "python",
   "name": "python3"
  },
  "language_info": {
   "codemirror_mode": {
    "name": "ipython",
    "version": 3
   },
   "file_extension": ".py",
   "mimetype": "text/x-python",
   "name": "python",
   "nbconvert_exporter": "python",
   "pygments_lexer": "ipython3",
   "version": "3.7.0"
  }
 },
 "nbformat": 4,
 "nbformat_minor": 2
}
